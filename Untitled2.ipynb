{
 "cells": [
  {
   "cell_type": "code",
   "execution_count": 12,
   "id": "625fb5ca",
   "metadata": {},
   "outputs": [],
   "source": [
    "import textract\n",
    "import PyPDF2\n",
    "\n",
    "def extract_text_from_pdf(file):\n",
    "    '''Opens and reads in a PDF file from path'''\n",
    "    \n",
    "    fileReader = PyPDF2.PdfFileReader(open(file,'rb'))\n",
    "    page_count = fileReader.getNumPages()\n",
    "    text = [fileReader.getPage(i).extractText() for i in range(page_count)]\n",
    "    \n",
    "    return str(text).replace(\"\\\\n\", \"\")\n",
    "\n",
    "def extract_text_from_word(filepath):\n",
    "    '''Opens en reads in a .doc or .docx file from path'''\n",
    "    \n",
    "    txt = textract.process(filepath).decode('utf-8')\n",
    "    \n",
    "    return txt.replace('\\n', ' ').replace('\\t', ' ')"
   ]
  },
  {
   "cell_type": "code",
   "execution_count": 15,
   "id": "c23eedce",
   "metadata": {},
   "outputs": [],
   "source": [
    "import en_core_web_sm\n",
    "\n",
    "# Load pre-trained Dutch language model\n",
    "nlp = en_core_web_sm.load()\n",
    "\n",
    "# File Extension. set as 'pdf' or as 'doc(x)'\n",
    "extension = 'pdf'\n",
    "\n",
    "def create_tokenized_texts_list(extension):\n",
    "    '''Create two lists, one with the names of the candidate and one with the tokenized \n",
    "       resume texts extracted from either a .pdf or .doc'''\n",
    "    resume_texts, resume_names = [], []\n",
    "    \n",
    "    # Loop over the contents of the directory containing the resumes, filtering by .pdf or .doc(x)\n",
    "    for resume in list(filter(lambda x: extension in x, os.listdir(PROJECT_DIR + '/CV'))):\n",
    "        if extension == 'pdf':\n",
    "            # Read in every resume with pdf extension in the directory\n",
    "            resume_texts.append(nlp(extract_text_from_pdf(PROJECT_DIR + '/CV/' + resume)))\n",
    "        elif 'doc' in extension:\n",
    "            # Read in every resume with .doc or .docx extension in the directory\n",
    "            resume_texts.append(nlp(extract_text_from_word(PROJECT_DIR + '/CV/' + resume)))\n",
    "            \n",
    "        resume_names.append(resume.split('_')[0].capitalize())\n",
    "        \n",
    "    return resume_texts, resume_names"
   ]
  },
  {
   "cell_type": "code",
   "execution_count": 20,
   "id": "166c0917",
   "metadata": {},
   "outputs": [
    {
     "ename": "NameError",
     "evalue": "name 'Project' is not defined",
     "output_type": "error",
     "traceback": [
      "\u001b[0;31m---------------------------------------------------------------------------\u001b[0m",
      "\u001b[0;31mNameError\u001b[0m                                 Traceback (most recent call last)",
      "\u001b[0;32m<ipython-input-20-0cbb632a5018>\u001b[0m in \u001b[0;36m<module>\u001b[0;34m\u001b[0m\n\u001b[1;32m      4\u001b[0m \u001b[0;34m\u001b[0m\u001b[0m\n\u001b[1;32m      5\u001b[0m \u001b[0;31m# Create list with entity labels from jsonl file\u001b[0m\u001b[0;34m\u001b[0m\u001b[0;34m\u001b[0m\u001b[0;34m\u001b[0m\u001b[0m\n\u001b[0;32m----> 6\u001b[0;31m \u001b[0;32mwith\u001b[0m \u001b[0mjsonlines\u001b[0m\u001b[0;34m.\u001b[0m\u001b[0mopen\u001b[0m\u001b[0;34m(\u001b[0m\u001b[0mProject\u001b[0m\u001b[0;34m+\u001b[0m\u001b[0;34m\"skill_patterns.jsonl\"\u001b[0m\u001b[0;34m)\u001b[0m \u001b[0;32mas\u001b[0m \u001b[0mf\u001b[0m\u001b[0;34m:\u001b[0m\u001b[0;34m\u001b[0m\u001b[0;34m\u001b[0m\u001b[0m\n\u001b[0m\u001b[1;32m      7\u001b[0m     \u001b[0mcreated_entities\u001b[0m \u001b[0;34m=\u001b[0m \u001b[0;34m[\u001b[0m\u001b[0mline\u001b[0m\u001b[0;34m[\u001b[0m\u001b[0;34m'label'\u001b[0m\u001b[0;34m]\u001b[0m\u001b[0;34m.\u001b[0m\u001b[0mupper\u001b[0m\u001b[0;34m(\u001b[0m\u001b[0;34m)\u001b[0m \u001b[0;32mfor\u001b[0m \u001b[0mline\u001b[0m \u001b[0;32min\u001b[0m \u001b[0mf\u001b[0m\u001b[0;34m.\u001b[0m\u001b[0miter\u001b[0m\u001b[0;34m(\u001b[0m\u001b[0;34m)\u001b[0m\u001b[0;34m]\u001b[0m\u001b[0;34m\u001b[0m\u001b[0;34m\u001b[0m\u001b[0m\n\u001b[1;32m      8\u001b[0m \u001b[0;34m\u001b[0m\u001b[0m\n",
      "\u001b[0;31mNameError\u001b[0m: name 'Project' is not defined"
     ]
    }
   ],
   "source": [
    "from spacy.pipeline import EntityRuler\n",
    "from spacy import displacy\n",
    "import jsonlines\n",
    "\n",
    "# Create list with entity labels from jsonl file\n",
    "with jsonlines.open(Project+\"skill_patterns.jsonl\") as f:\n",
    "    created_entities = [line['label'].upper() for line in f.iter()]\n",
    "    \n",
    "def add_newruler_to_pipeline(skill_pattern_path):\n",
    "    '''Reads in all created patterns from a JSONL file and adds it to the pipeline after PARSER and before NER'''\n",
    "    \n",
    "    new_ruler = EntityRuler(nlp).from_disk(skill_pattern_path)\n",
    "    nlp.add_pipe(new_ruler, after='parser')\n",
    "    \n",
    "\n",
    "def visualize_entity_ruler(entity_list, doc):\n",
    "    '''Visualize the Skill entities of a doc'''\n",
    "    \n",
    "    options = {\"ents\": entity_list}\n",
    "    displacy.render(doc, style='ent', options=options)\n",
    "    \n",
    "visualize_entity_ruler(created_entities, doc)"
   ]
  }
 ],
 "metadata": {
  "kernelspec": {
   "display_name": "Python 3",
   "language": "python",
   "name": "python3"
  },
  "language_info": {
   "codemirror_mode": {
    "name": "ipython",
    "version": 3
   },
   "file_extension": ".py",
   "mimetype": "text/x-python",
   "name": "python",
   "nbconvert_exporter": "python",
   "pygments_lexer": "ipython3",
   "version": "3.8.8"
  }
 },
 "nbformat": 4,
 "nbformat_minor": 5
}
